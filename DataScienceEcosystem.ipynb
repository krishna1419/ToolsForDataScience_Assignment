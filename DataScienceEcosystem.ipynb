{
 "cells": [
  {
   "cell_type": "markdown",
   "metadata": {},
   "source": [
    "# Data science Tools and Ecosystem!"
   ]
  },
  {
   "cell_type": "markdown",
   "metadata": {},
   "source": [
    "**objectives:**\n",
    "* List of popular Languages used by data scientists\n",
    "* Commonly used libraries by data scientists\n",
    "* Some examples of arithmetic operations in Python"
   ]
  },
  {
   "cell_type": "markdown",
   "metadata": {},
   "source": [
    "## In this notebook, Data Science Tools and Ecosystem are summarized."
   ]
  },
  {
   "cell_type": "markdown",
   "metadata": {},
   "source": [
    "### Some of the popular languages that Data Scientists use are:\n",
    "1. Python: The heavyweight champion for its simplicity and vast library ecosystem.\n",
    "2. R: The go-to for statistical analysis and data visualization.\n",
    "3. SQL: Essential for querying and managing data in databases.\n",
    "4. Julia: Known for its high performance, especially in numerical and scientific computing.\n",
    "5. Scala: Often used in big data processing with Apache Spark.\n",
    "6. MATLAB: Popular in academia and engineering for mathematical computing.\n",
    "7. SAS: Preferred in industries like healthcare for its robust statistical analysis capabilities.\n",
    "\n"
   ]
  },
  {
   "cell_type": "markdown",
   "metadata": {},
   "source": [
    "### Some of the commonly used libraries used by Data Scientists include:\n",
    "1. NumPy: For numerical computations and handling arrays.\n",
    "2. Pandas: For data manipulation and analysis.\n",
    "3. Matplotlib: For creating static, animated, and interactive visualizations.\n",
    "4. Seaborn: For making statistical plots.\n",
    "5. Scikit-learn: For machine learning and data mining.\n",
    "6. TensorFlow: For building and training machine learning models.\n",
    "7. Keras: For simplifying neural networks and deep learning.\n",
    "8. SciPy: For scientific computing.\n",
    "9. NLTK: For natural language processing.\n",
    "10. Statsmodels: For statistical modeling."
   ]
  },
  {
   "cell_type": "markdown",
   "metadata": {},
   "source": [
    "| *Data Science Tools* | Description |\n",
    "| ------ | ------ |\n",
    "| **RStudio** | An integrated development environment (IDE) for R and R Markdown |\n",
    "| **Jupyter Notebook** |  A web-based interactive computational environment that allows you to create and share documents with live code, equations, visualizations, and narrative text. |\n",
    "| **Spyder** | An open-source IDE for Python, designed specifically for scientific programming and data analysis, featuring advanced editing, debugging, and profiling tools |\n"
   ]
  },
  {
   "cell_type": "markdown",
   "metadata": {},
   "source": [
    "### Below are a few examples of evaluating arithmetic expressions in Python"
   ]
  },
  {
   "cell_type": "markdown",
   "metadata": {},
   "source": [
    "This a simple arithmetic expression to mutiply then add integers"
   ]
  },
  {
   "cell_type": "code",
   "execution_count": 1,
   "metadata": {},
   "outputs": [
    {
     "data": {
      "text/plain": [
       "17"
      ]
     },
     "execution_count": 1,
     "metadata": {},
     "output_type": "execute_result"
    }
   ],
   "source": [
    "(3*4)+5"
   ]
  },
  {
   "cell_type": "markdown",
   "metadata": {},
   "source": [
    "This will convert 200 minutes to hours by diving by 60"
   ]
  },
  {
   "cell_type": "code",
   "execution_count": 3,
   "metadata": {},
   "outputs": [
    {
     "data": {
      "text/plain": [
       "3"
      ]
     },
     "execution_count": 3,
     "metadata": {},
     "output_type": "execute_result"
    }
   ],
   "source": [
    "int(200/60)"
   ]
  },
  {
   "cell_type": "markdown",
   "metadata": {},
   "source": [
    " ## Author\n",
    " Partha Krishna Ravi kumar"
   ]
  },
  {
   "cell_type": "code",
   "execution_count": null,
   "metadata": {},
   "outputs": [],
   "source": []
  }
 ],
 "metadata": {
  "kernelspec": {
   "display_name": "RP_Env",
   "language": "python",
   "name": "python3"
  },
  "language_info": {
   "codemirror_mode": {
    "name": "ipython",
    "version": 3
   },
   "file_extension": ".py",
   "mimetype": "text/x-python",
   "name": "python",
   "nbconvert_exporter": "python",
   "pygments_lexer": "ipython3",
   "version": "3.12.7"
  }
 },
 "nbformat": 4,
 "nbformat_minor": 2
}
